{
 "cells": [
  {
   "cell_type": "code",
   "execution_count": 1,
   "metadata": {},
   "outputs": [
    {
     "name": "stdout",
     "output_type": "stream",
     "text": [
      "5 is less than the Number __try again__\n",
      "22 is less than the Number __try again__\n",
      " 75 is biger than the Number __try again__\n",
      " 50 is biger than the Number __try again__\n",
      " 44 is biger than the Number __try again__\n",
      "the Number is 30\n"
     ]
    }
   ],
   "source": [
    "import random\n",
    "\n",
    "choice = random.randint(0, 99)\n",
    "running = 5\n",
    "while running:\n",
    "    x = int(input(\"Guess the Number in range(0,99)\"))\n",
    "    if x == choice:\n",
    "        print(f\"Good {x} is correct \")\n",
    "        break\n",
    "    elif x > choice:\n",
    "        print(f\" {x} is biger than the Number __try again__\")\n",
    "    elif x < choice:\n",
    "        print(f\"{x} is less than the Number __try again__\")\n",
    "    running -= 1\n",
    "print(f\"the Number is {choice}\")"
   ]
  },
  {
   "cell_type": "code",
   "execution_count": null,
   "metadata": {},
   "outputs": [],
   "source": []
  }
 ],
 "metadata": {
  "kernelspec": {
   "display_name": "base",
   "language": "python",
   "name": "python3"
  },
  "language_info": {
   "codemirror_mode": {
    "name": "ipython",
    "version": 3
   },
   "file_extension": ".py",
   "mimetype": "text/x-python",
   "name": "python",
   "nbconvert_exporter": "python",
   "pygments_lexer": "ipython3",
   "version": "3.9.13"
  },
  "orig_nbformat": 4
 },
 "nbformat": 4,
 "nbformat_minor": 2
}
